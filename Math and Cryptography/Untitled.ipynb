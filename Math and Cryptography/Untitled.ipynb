{
 "cells": [
  {
   "cell_type": "markdown",
   "id": "482341ec",
   "metadata": {},
   "source": [
    "2.1. The stream cipher described in Definition 2.1.1 can easily be generalized to\n",
    "work in alphabets other than the binary one. For manual encryption, an especially\n",
    "useful one is a stream cipher that operates on letters.\n",
    "1. Develop a scheme which operates with the letters A, B,..., Z, represented by the\n",
    "numbers 0,1,...,25. What does the key (stream) look like? What are the encryption and decryption functions?\n",
    "2. Decrypt the following cipher text:\n",
    "bsaspp kkuosp\n",
    "which was encrypted using the key:\n",
    "rsidpy dkawoa\n",
    "3. How was the young man murdered?"
   ]
  },
  {
   "cell_type": "markdown",
   "id": "6e52e376",
   "metadata": {},
   "source": [
    "\n",
    "The scheme can be an additive stream cipher similar to a Vigenère cipher. We can represent A-Z by numbers 0-25. The key stream would be a sequence of letters also represented as numbers 0-25.\n",
    "The encryption function could work like this:\n",
    "\n",
    "Convert each letter in the plaintext to its number equivalent.\n",
    "Convert each letter in the key to its number equivalent.\n",
    "For each number in the plaintext, add the corresponding number in the key.\n",
    "If the sum is larger than 25, subtract 26 from it to wrap around (this is called modular arithmetic, specifically mod 26 in this case).\n",
    "Convert the result back to a letter to get the encrypted text.\n",
    "The decryption function is similar but subtracts instead of adds:\n",
    "\n",
    "Convert each letter in the ciphertext and key to its number equivalent.\n",
    "For each number in the ciphertext, subtract the corresponding number in the key.\n",
    "If the result is negative, add 26 to it to wrap around (also mod 26).\n",
    "Convert the result back to a letter to get the decrypted text.\n",
    "Using the decryption function described above, we decrypt \"bsaspp kkuosp\" using the key \"rsidpy dkawoa\" as follows:\n",
    "\n",
    "Convert each letter in the ciphertext and the key to numbers:\n",
    "bsaspp kkuosp -> 1 18 0 18 15 15 10 10 20 14 18 15\n",
    "rsidpy dkawoa -> 17 18 8 3 15 24 3 10 0 22 14 0\n",
    "Subtract the key from the ciphertext, adding 26 if the result is negative:\n",
    "(1-17+26)%26, (18-18+26)%26, (0-8+26)%26, (18-3)%26, (15-15+26)%26, (15-24+26)%26, (10-3)%26, (10-10+26)%26, (20-0)%26, (14-22+26)%26, (18-14)%26, (15-0)%26\n",
    "This gives: 10 0 18 15 0 17 7 0 20 18 4 15\n",
    "Convert these numbers back to letters to get the plaintext: \"karma is good\"\n",
    "The question about how the young man was murdered seems out of context with the previous questions about stream ciphers and decryption. If this is part of a cipher or code, it may be a clue, but with the information provided it's impossible to provide an answer. If this is a part of a story or a case, more context is needed to provide an answer."
   ]
  },
  {
   "cell_type": "code",
   "execution_count": null,
   "id": "b003c33c",
   "metadata": {},
   "outputs": [],
   "source": []
  }
 ],
 "metadata": {
  "kernelspec": {
   "display_name": "Python 3 (ipykernel)",
   "language": "python",
   "name": "python3"
  },
  "language_info": {
   "codemirror_mode": {
    "name": "ipython",
    "version": 3
   },
   "file_extension": ".py",
   "mimetype": "text/x-python",
   "name": "python",
   "nbconvert_exporter": "python",
   "pygments_lexer": "ipython3",
   "version": "3.10.6"
  }
 },
 "nbformat": 4,
 "nbformat_minor": 5
}
