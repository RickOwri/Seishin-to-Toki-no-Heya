{
 "cells": [
  {
   "cell_type": "code",
   "execution_count": 2,
   "id": "bc6b5c2a",
   "metadata": {},
   "outputs": [
    {
     "ename": "SyntaxError",
     "evalue": "(unicode error) 'unicodeescape' codec can't decode bytes in position 2-3: truncated \\UXXXXXXXX escape (2855446567.py, line 4)",
     "output_type": "error",
     "traceback": [
      "\u001b[1;36m  Cell \u001b[1;32mIn[2], line 4\u001b[1;36m\u001b[0m\n\u001b[1;33m    pdf_path = 'C:\\Users\\micka\\Desktop\\ReactAPP\\Seishin-to-Toki-no-Heya\\Math and Cryptography\\zk-Homework1 - Maths 1.pdf'\u001b[0m\n\u001b[1;37m                                                                                                                         ^\u001b[0m\n\u001b[1;31mSyntaxError\u001b[0m\u001b[1;31m:\u001b[0m (unicode error) 'unicodeescape' codec can't decode bytes in position 2-3: truncated \\UXXXXXXXX escape\n"
     ]
    }
   ],
   "source": [
    "from IPython.display import IFrame, display\n",
    "\n",
    "# Replace 'path_to_pdf_file.pdf' with the actual path to your PDF file\n",
    "pdf_path = r'C:\\Users\\micka\\Desktop\\ReactAPP\\Seishin-to-Toki-no-Heya\\Math and Cryptography\\zk-Homework1 - Maths 1.pdf'\n",
    "\n",
    "# Display the PDF using an inline frame\n",
    "display(IFrame(pdf_path, width=600, height=300))"
   ]
  },
  {
   "cell_type": "code",
   "execution_count": null,
   "id": "d38906b4",
   "metadata": {},
   "outputs": [],
   "source": []
  },
  {
   "cell_type": "code",
   "execution_count": 1,
   "id": "30f715d0",
   "metadata": {},
   "outputs": [
    {
     "ename": "SyntaxError",
     "evalue": "(unicode error) 'unicodeescape' codec can't decode bytes in position 2-3: truncated \\UXXXXXXXX escape (2224046579.py, line 4)",
     "output_type": "error",
     "traceback": [
      "\u001b[1;36m  Cell \u001b[1;32mIn[1], line 4\u001b[1;36m\u001b[0m\n\u001b[1;33m    pdf_path = 'C:\\Users\\micka\\Desktop\\ReactAPP\\Seishin-to-Toki-no-Heya\\Math and Cryptography\\zk-Homework2 - Maths 2.pdf'\u001b[0m\n\u001b[1;37m                                                                                                                         ^\u001b[0m\n\u001b[1;31mSyntaxError\u001b[0m\u001b[1;31m:\u001b[0m (unicode error) 'unicodeescape' codec can't decode bytes in position 2-3: truncated \\UXXXXXXXX escape\n"
     ]
    }
   ],
   "source": [
    "from IPython.display import IFrame, display\n",
    "\n",
    "# Replace 'path_to_pdf_file.pdf' with the actual path to your PDF file\n",
    "pdf_path = 'C:\\Users\\micka\\Desktop\\ReactAPP\\Seishin-to-Toki-no-Heya\\Math and Cryptography\\zk-Homework2 - Maths 2.pdf'\n",
    "\n",
    "# Display the PDF using an inline frame\n",
    "display(IFrame(pdf_path, width=600, height=300))"
   ]
  },
  {
   "cell_type": "code",
   "execution_count": null,
   "id": "0ec332d4",
   "metadata": {},
   "outputs": [],
   "source": []
  }
 ],
 "metadata": {
  "kernelspec": {
   "display_name": "Python 3 (ipykernel)",
   "language": "python",
   "name": "python3"
  },
  "language_info": {
   "codemirror_mode": {
    "name": "ipython",
    "version": 3
   },
   "file_extension": ".py",
   "mimetype": "text/x-python",
   "name": "python",
   "nbconvert_exporter": "python",
   "pygments_lexer": "ipython3",
   "version": "3.11.4"
  }
 },
 "nbformat": 4,
 "nbformat_minor": 5
}
