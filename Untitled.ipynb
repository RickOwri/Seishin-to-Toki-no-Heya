{
 "cells": [
  {
   "cell_type": "markdown",
   "id": "9ce006ba",
   "metadata": {},
   "source": [
    "1.1. The ciphertext below was encrypted using a substitution cipher. Decrypt the ci\u0002phertext without knowledge of the key.\n",
    "lrvmnir bpr sumvbwvr jx bpr lmiwv yjeryrkbi jx qmbm wi\n",
    "bpr xjvni mkd ymibrut jx irhx wi bpr riirkvr jx\n",
    "ymbinlmtmipw utn qmumbr dj w ipmhh but bj rhnvwdmbr bpr\n",
    "yjeryrkbi jx bpr qmbm mvvjudwko bj yt wkbrusurbmbwjk\n",
    "lmird jk xjubt trmui jx ibndt\n",
    "wb wi kjb mk rmit bmiq bj rashmwk rmvp yjeryrkb mkd wbi\n",
    "iwokwxwvmkvr mkd ijyr ynib urymwk nkrashmwkrd bj ower m\n",
    "vjyshrbr rashmkmbwjk jkr cjnhd pmer bj lr fnmhwxwrd mkd\n",
    "wkiswurd bj invp mk rabrkb bpmb pr vjnhd urmvp bpr ibmbr\n",
    "jx rkhwopbrkrd ywkd vmsmlhr jx urvjokwgwko ijnkdhrii\n",
    "ijnkd mkd ipmsrhrii ipmsr w dj kjb drry ytirhx bpr xwkmh\n",
    "mnbpjuwbt lnb yt rasruwrkvr cwbp qmbm pmi hrxb kj djnlb\n",
    "bpmb bpr xjhhjcwko wi bpr sujsru msshwvmbwjk mkd\n",
    "wkbrusurbmbwjk w jxxru yt bprjuwri wk bpr pjsr bpmb bpr\n",
    "riirkvr jx jqwkmcmk qmumbr cwhh urymwk wkbmvb\n",
    "1. Compute the relative frequency of all letters A...Z in the ciphertext. You may\n",
    "want to use a tool such as the open-source program CrypTool [50] for this task.\n",
    "However, a paper and pencil approach is also still doable.\n",
    "2. Decrypt the ciphertext with the help of the relative letter frequency of the English\n",
    "language (see Table 1.1 in Sect. 1.2.2). Note that the text is relatively short and\n",
    "that the letter frequencies in it might not perfectly align with that of general\n",
    "English language from the table.\n",
    "3. Who wrote the text?"
   ]
  },
  {
   "cell_type": "code",
   "execution_count": 1,
   "id": "d9606758",
   "metadata": {},
   "outputs": [
    {
     "name": "stdout",
     "output_type": "stream",
     "text": [
      "a: 0.009041591320072333\n",
      "b: 0.10126582278481013\n",
      "c: 0.0054249547920434\n",
      "d: 0.039783001808318265\n",
      "e: 0.009041591320072333\n",
      "f: 0.0018083182640144665\n",
      "g: 0.0018083182640144665\n",
      "h: 0.0379746835443038\n",
      "i: 0.06871609403254973\n",
      "j: 0.07414104882459313\n",
      "k: 0.0705244122965642\n",
      "l: 0.014466546112115732\n",
      "m: 0.09403254972875226\n",
      "n: 0.03074141048824593\n",
      "o: 0.012658227848101266\n",
      "p: 0.045207956600361664\n",
      "q: 0.009041591320072333\n",
      "r: 0.12839059674502712\n",
      "s: 0.027124773960216998\n",
      "t: 0.0216998191681736\n",
      "u: 0.0325497287522604\n",
      "v: 0.03616636528028933\n",
      "w: 0.06690777576853527\n",
      "x: 0.03074141048824593\n",
      "y: 0.03074141048824593\n",
      "z: 0\n"
     ]
    }
   ],
   "source": [
    "from collections import Counter\n",
    "import string\n",
    "\n",
    "def calculate_relative_frequency(ciphertext):\n",
    "    # Remove non-alphabetic characters and convert to lowercase\n",
    "    ciphertext = ''.join(char.lower() for char in ciphertext if char.isalpha())\n",
    "\n",
    "    # Calculate total count of each letter\n",
    "    total_count = len(ciphertext)\n",
    "\n",
    "    # Use Counter to count occurrences of each letter\n",
    "    letter_count = Counter(ciphertext)\n",
    "\n",
    "    # Calculate relative frequency of each letter\n",
    "    relative_frequency = {letter: count / total_count for letter, count in letter_count.items()}\n",
    "\n",
    "    return relative_frequency\n",
    "\n",
    "# Example usage:\n",
    "ciphertext = \"lrvmnir bpr sumvbwvr jx bpr lmiwv yjeryrkbi jx qmbm wi bpr xjvni mkd ymibrut jx irhx wi bpr riirkvr jx ymbinlmtmipw utn qmumbr dj w ipmhh but bj rhnvwdmbr bpr yjeryrkbi jx bpr qmbm mvvjudwko bj yt wkbrusurbmbwjk lmird jk xjubt trmui jx ibndt wb wi kjb mk rmit bmiq bj rashmwk rmvp yjeryrkb mkd wbi iwokwxwvmkvr mkd ijyr ynib urymwk nkrashmwkrd bj ower m vjyshrbr rashmkmbwjk jkr cjnhd pmer bj lr fnmhwxwrd mkd wkiswurd bj invp mk rabrkb bpmb pr vjnhd urmvp bpr ibmbr jx rkhwopbrkrd ywkd vmsmlhr jx urvjokwgwko ijnkdhrii ijnkd mkd ipmsrhrii ipmsr w dj kjb drry ytirhx bpr xwkmh mnbpjuwbt lnb yt rasruwrkvr cwbp qmbm pmi hrxb kj djnlb bpmb bpr xjhhjcwko wi bpr sujsru msshwv\"\n",
    "\n",
    "relative_freq = calculate_relative_frequency(ciphertext)\n",
    "\n",
    "# Print the relative frequencies\n",
    "for letter in string.ascii_lowercase:\n",
    "    print(f\"{letter}: {relative_freq.get(letter, 0)}\")\n"
   ]
  },
  {
   "cell_type": "code",
   "execution_count": 2,
   "id": "cedb2fec",
   "metadata": {},
   "outputs": [
    {
     "name": "stdout",
     "output_type": "stream",
     "text": [
      "Initialized empty Git repository in /home/coder/cryptography/.git/\r\n"
     ]
    }
   ],
   "source": [
    "!git init"
   ]
  },
  {
   "cell_type": "code",
   "execution_count": null,
   "id": "0b7312ea",
   "metadata": {},
   "outputs": [],
   "source": [
    "git add ."
   ]
  }
 ],
 "metadata": {
  "kernelspec": {
   "display_name": "Python 3 (ipykernel)",
   "language": "python",
   "name": "python3"
  },
  "language_info": {
   "codemirror_mode": {
    "name": "ipython",
    "version": 3
   },
   "file_extension": ".py",
   "mimetype": "text/x-python",
   "name": "python",
   "nbconvert_exporter": "python",
   "pygments_lexer": "ipython3",
   "version": "3.11.4"
  }
 },
 "nbformat": 4,
 "nbformat_minor": 5
}
