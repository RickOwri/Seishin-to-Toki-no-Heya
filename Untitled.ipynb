{
 "cells": [
  {
   "cell_type": "markdown",
   "id": "79e77d8f",
   "metadata": {},
   "source": [
    "1.1. The ciphertext below was encrypted using a substitution cipher. Decrypt the ci\u0002phertext without knowledge of the key.\n",
    "lrvmnir bpr sumvbwvr jx bpr lmiwv yjeryrkbi jx qmbm wi\n",
    "bpr xjvni mkd ymibrut jx irhx wi bpr riirkvr jx\n",
    "ymbinlmtmipw utn qmumbr dj w ipmhh but bj rhnvwdmbr bpr\n",
    "yjeryrkbi jx bpr qmbm mvvjudwko bj yt wkbrusurbmbwjk\n",
    "lmird jk xjubt trmui jx ibndt\n",
    "wb wi kjb mk rmit bmiq bj rashmwk rmvp yjeryrkb mkd wbi\n",
    "iwokwxwvmkvr mkd ijyr ynib urymwk nkrashmwkrd bj ower m\n",
    "vjyshrbr rashmkmbwjk jkr cjnhd pmer bj lr fnmhwxwrd mkd\n",
    "wkiswurd bj invp mk rabrkb bpmb pr vjnhd urmvp bpr ibmbr\n",
    "jx rkhwopbrkrd ywkd vmsmlhr jx urvjokwgwko ijnkdhrii\n",
    "ijnkd mkd ipmsrhrii ipmsr w dj kjb drry ytirhx bpr xwkmh\n",
    "mnbpjuwbt lnb yt rasruwrkvr cwbp qmbm pmi hrxb kj djnlb\n",
    "bpmb bpr xjhhjcwko wi bpr sujsru msshwvmbwjk mkd\n",
    "wkbrusurbmbwjk w jxxru yt bprjuwri wk bpr pjsr bpmb bpr\n",
    "riirkvr jx jqwkmcmk qmumbr cwhh urymwk wkbmvb\n",
    "1. Compute the relative frequency of all letters A...Z in the ciphertext. You may\n",
    "want to use a tool such as the open-source program CrypTool [50] for this task.\n",
    "However, a paper and pencil approach is also still doable.\n",
    "2. Decrypt the ciphertext with the help of the relative letter frequency of the English\n",
    "language (see Table 1.1 in Sect. 1.2.2). Note that the text is relatively short and\n",
    "that the letter frequencies in it might not perfectly align with that of general\n",
    "English language from the table.\n",
    "3. Who wrote the text?"
   ]
  },
  {
   "cell_type": "markdown",
   "id": "b739fd63",
   "metadata": {},
   "source": [
    "# First use of frequencies languages"
   ]
  },
  {
   "cell_type": "markdown",
   "id": "78d709d5",
   "metadata": {},
   "source": [
    "## 1.1.1  \n",
    "Compute the relative frequency of all letters A...Z in the ciphertext. You may\n",
    "want to use a tool such as the open-source program CrypTool [50] for this task.\n",
    "However, a paper and pencil approach is also still doable."
   ]
  },
  {
   "cell_type": "code",
   "execution_count": 86,
   "id": "3ecdd28b",
   "metadata": {},
   "outputs": [],
   "source": [
    "from collections import Counter\n",
    "import string\n",
    "import pandas as pd\n",
    "\n",
    "char_frequencies = {\n",
    "    'r': 84,\n",
    "    'b': 68,\n",
    "    'm': 62,\n",
    "    'k': 49,\n",
    "    'j': 48,\n",
    "    'w': 47,\n",
    "    'i': 41,\n",
    "    'p': 30,\n",
    "    'u': 24,\n",
    "    'd': 23,\n",
    "    'h': 23,\n",
    "    'v': 22,\n",
    "    'x': 20,\n",
    "    'y': 19,\n",
    "    'n': 17,\n",
    "    's': 17,\n",
    "    't': 13,\n",
    "    'l': 8,\n",
    "    'q': 7,\n",
    "    'o': 7,\n",
    "    'e': 5,\n",
    "    'a': 5,\n",
    "    'c': 5,\n",
    "    'f': 1,\n",
    "    'g': 1\n",
    "}\n",
    "\n",
    "def df_todecipher(char_frequencies):\n",
    "    \n",
    "\n",
    "    df_todecipher = pd.DataFrame.from_dict(char_frequencies, orient='index', columns=['frequency-todecipher'])\n",
    "    df_todecipher = df_todecipher.sort_values(\"frequency-todecipher\", ascending=False).reset_index()\n",
    "    df_todecipher.columns = ['Letter', 'Frequency']\n",
    "    df_todecipher['Frequency']\n",
    "    df_todecipher.head()\n",
    "    df_todecipher = df_todecipher.rename(columns={\"Letter\":\"letter_todecipher\",\"Frequency\":\"frequency-todecipher\"})\n",
    "    return df_todecipher\n",
    "\n",
    "df_todecipher = df_todecipher(char_frequencies)"
   ]
  },
  {
   "cell_type": "code",
   "execution_count": 87,
   "id": "0cb9ae3b",
   "metadata": {},
   "outputs": [],
   "source": [
    "import pandas as pd\n",
    "\n",
    "# Create a dictionary with the frequency of letters in the English language\n",
    "# The values represent the frequencies in percent\n",
    "letter_frequencies = substitution_key = {\n",
    "'A': 0.0817,\n",
    "'B': 0.0150,\n",
    "'C': 0.0278,\n",
    "'D': 0.0425,\n",
    "'E': 0.1270,\n",
    "'F': 0.0223,\n",
    "'G': 0.0202,\n",
    "'H': 0.0609,\n",
    "'I': 0.0697,\n",
    "'J': 0.0015,\n",
    "'K': 0.0077,\n",
    "'L': 0.0403,\n",
    "'M': 0.0241,\n",
    "'N': 0.0675,\n",
    "'O': 0.0751,\n",
    "'P': 0.0193,\n",
    "'Q': 0.0010,\n",
    "'R': 0.0599,\n",
    "'S': 0.0633,\n",
    "'T': 0.0906,\n",
    "'U': 0.0276,\n",
    "'V': 0.0098,\n",
    "'W': 0.0236,\n",
    "'X': 0.0015,\n",
    "'Y': 0.0197,\n",
    "'Z': 0.0007\n",
    "}\n",
    "\n",
    "def df_english(letter_frequencies):\n",
    "\n",
    "    # Create a DataFrame from the dictionary\n",
    "    df_english = pd.DataFrame(list(letter_frequencies.items()), columns=['letter-english', 'frequency-english'])\n",
    "\n",
    "    # Sort the DataFrame by letter\n",
    "    df_english = df_english.sort_values('frequency-english', ascending=False)\n",
    "\n",
    "    # Reset the index\n",
    "    df_english = df_english.reset_index(drop=True)\n",
    "\n",
    "    # Print the DataFrame\n",
    "    df_english[\"frequency-english\"]=df_english[\"frequency-english\"]\n",
    "    \n",
    "    df_english = df_english.reset_index(drop=True)\n",
    "    return df_english\n",
    "\n",
    "df_english = df_english(letter_frequencies)"
   ]
  },
  {
   "cell_type": "code",
   "execution_count": 88,
   "id": "e909edd6",
   "metadata": {},
   "outputs": [],
   "source": [
    "def joiner_function(df_todecipher, df_english):\n",
    "    joined = df_todecipher.join(df_english)\n",
    "    joined.head()\n",
    "\n",
    "    # range tables\n",
    "    joined.columns\n",
    "    joiner = joined.reindex(columns=[\"frequency-todecipher\",\"frequency-english\",\"letter_todecipher\",\"letter-english\"])\n",
    "    joiner.sort_values(\"frequency-todecipher\", ascending=False).head()\n",
    "    return joiner\n",
    "joiner = joiner_function(df_todecipher, df_english)"
   ]
  },
  {
   "cell_type": "code",
   "execution_count": 89,
   "id": "c4fc6eb9",
   "metadata": {},
   "outputs": [
    {
     "data": {
      "text/html": [
       "<div>\n",
       "<style scoped>\n",
       "    .dataframe tbody tr th:only-of-type {\n",
       "        vertical-align: middle;\n",
       "    }\n",
       "\n",
       "    .dataframe tbody tr th {\n",
       "        vertical-align: top;\n",
       "    }\n",
       "\n",
       "    .dataframe thead th {\n",
       "        text-align: right;\n",
       "    }\n",
       "</style>\n",
       "<table border=\"1\" class=\"dataframe\">\n",
       "  <thead>\n",
       "    <tr style=\"text-align: right;\">\n",
       "      <th></th>\n",
       "      <th>frequency-todecipher</th>\n",
       "      <th>frequency-english</th>\n",
       "      <th>letter_todecipher</th>\n",
       "      <th>letter-english</th>\n",
       "    </tr>\n",
       "  </thead>\n",
       "  <tbody>\n",
       "    <tr>\n",
       "      <th>0</th>\n",
       "      <td>84</td>\n",
       "      <td>0.1270</td>\n",
       "      <td>r</td>\n",
       "      <td>E</td>\n",
       "    </tr>\n",
       "    <tr>\n",
       "      <th>1</th>\n",
       "      <td>68</td>\n",
       "      <td>0.0906</td>\n",
       "      <td>b</td>\n",
       "      <td>T</td>\n",
       "    </tr>\n",
       "    <tr>\n",
       "      <th>2</th>\n",
       "      <td>62</td>\n",
       "      <td>0.0817</td>\n",
       "      <td>m</td>\n",
       "      <td>A</td>\n",
       "    </tr>\n",
       "    <tr>\n",
       "      <th>3</th>\n",
       "      <td>49</td>\n",
       "      <td>0.0751</td>\n",
       "      <td>k</td>\n",
       "      <td>O</td>\n",
       "    </tr>\n",
       "    <tr>\n",
       "      <th>4</th>\n",
       "      <td>48</td>\n",
       "      <td>0.0697</td>\n",
       "      <td>j</td>\n",
       "      <td>I</td>\n",
       "    </tr>\n",
       "  </tbody>\n",
       "</table>\n",
       "</div>"
      ],
      "text/plain": [
       "   frequency-todecipher  frequency-english letter_todecipher letter-english\n",
       "0                    84             0.1270                 r              E\n",
       "1                    68             0.0906                 b              T\n",
       "2                    62             0.0817                 m              A\n",
       "3                    49             0.0751                 k              O\n",
       "4                    48             0.0697                 j              I"
      ]
     },
     "execution_count": 89,
     "metadata": {},
     "output_type": "execute_result"
    }
   ],
   "source": [
    "joiner.head()"
   ]
  },
  {
   "cell_type": "code",
   "execution_count": 90,
   "id": "576e717a",
   "metadata": {},
   "outputs": [],
   "source": [
    "def create_dico_function(joiner):\n",
    "\n",
    "    # Select the desired columns\n",
    "    keys_column = joiner['letter_todecipher']\n",
    "    values_column = joiner['letter-english']\n",
    "\n",
    "    # Create the dictionary\n",
    "    dictionary = dict(zip(keys_column.tolist(), values_column.tolist()))\n",
    "    \n",
    "    return dictionary, dictionary\n",
    "\n",
    "dictionary1, dictionary = create_dico_function(joiner)"
   ]
  },
  {
   "cell_type": "code",
   "execution_count": 103,
   "id": "63576888",
   "metadata": {},
   "outputs": [
    {
     "ename": "NameError",
     "evalue": "name 'char' is not defined",
     "output_type": "error",
     "traceback": [
      "\u001b[0;31m---------------------------------------------------------------------------\u001b[0m",
      "\u001b[0;31mNameError\u001b[0m                                 Traceback (most recent call last)",
      "Cell \u001b[0;32mIn[103], line 1\u001b[0m\n\u001b[0;32m----> 1\u001b[0m \u001b[38;5;28mprint\u001b[39m(\u001b[38;5;28mord\u001b[39m(\u001b[43mchar\u001b[49m))\n",
      "\u001b[0;31mNameError\u001b[0m: name 'char' is not defined"
     ]
    }
   ],
   "source": [
    "print(ord( ))"
   ]
  },
  {
   "cell_type": "markdown",
   "id": "d8fd6e9a",
   "metadata": {},
   "source": [
    "### function for substitution"
   ]
  },
  {
   "cell_type": "code",
   "execution_count": 91,
   "id": "6ccf8cce",
   "metadata": {},
   "outputs": [],
   "source": [
    "def substitute_letter(letter, substitution_key):\n",
    "    # If the letter is in the substitution key, return the substitution\n",
    "    if letter in substitution_key:\n",
    "        return substitution_key[letter]\n",
    "    # If the letter is not in the substitution key, return the original letter\n",
    "    else:\n",
    "        return letter\n",
    "\n",
    "def decipher_message(ciphertext, shift, substitution_key):\n",
    "    plaintext = \"\"\n",
    "    \n",
    "    # Iterate over each character in the ciphertext\n",
    "    for char in ciphertext:\n",
    "        # Check if the character is a letter\n",
    "        if char.isalpha():\n",
    "            \n",
    "            # Apply the Caesar cipher decryption by shifting back\n",
    "#             decrypted_char = chr((ord(char) - shift - 65) % 26 + 65)\n",
    "            decrypted_char = char\n",
    "#             decrypted_char = char\n",
    "            # Apply the substitution key to get the substituted letter\n",
    "            substituted_char = substitute_letter(decrypted_char, substitution_key)\n",
    "            \n",
    "            # Append the substituted letter to the plaintext\n",
    "            plaintext += substituted_char\n",
    "        else:\n",
    "            # Append non-alphabetic characters directly\n",
    "            plaintext += char\n",
    "    \n",
    "    return plaintext\n"
   ]
  },
  {
   "cell_type": "markdown",
   "id": "218b8931",
   "metadata": {},
   "source": [
    "### Use of the decipher algo using statistical data on english"
   ]
  },
  {
   "cell_type": "code",
   "execution_count": 92,
   "id": "a494e7f7",
   "metadata": {},
   "outputs": [
    {
     "name": "stdout",
     "output_type": "stream",
     "text": [
      "YECAWSE THE FRACTNCE IU THE YASNC MIVEMEOTS IU PATA NS THE UICWS AOD MASTERG IU SELU NS THE ESSEOCE IU MATSWYAGASHN RGW PARATE DI N SHALL TRG TI ELWCNDATE THE MIVEMEOTS IU THE PATA ACCIRDNOB TI MG NOTERFRETATNIO YASED IO UIRTG GEARS IU STWDG NT NS OIT AO EASG TASP TI EKFLANO EACH MIVEMEOT AOD NTS SNBONUNCAOCE AOD SIME MWST REMANO WOEKFLANOED TI BNVE A CIMFLETE EKFLAOATNIO IOE JIWLD HAVE TI YE XWALNUNED AOD NOSFNRED TI SWCH AO EKTEOT THAT HE CIWLD REACH THE STATE IU EOLNBHTEOED MNOD CAFAYLE IU RECIBONQNOB SIWODLESS SIWOD AOD SHAFELESS SHAFE N DI OIT DEEM MGSELU THE UNOAL AWTHIRNTG YWT MG EKFERNEOCE JNTH PATA HAS LEUT OI DIWYT THAT THE UILLIJNOB NS THE FRIFER AFFLNCATNIO AOD NOTERFRETATNIO N IUUER MG THEIRNES NO THE HIFE THAT THE ESSEOCE IU IPNOAJAO PARATE JNLL REMANO NOTACT\n"
     ]
    }
   ],
   "source": [
    "# Example usage\n",
    "encrypted_message = \"lrvmnir bpr sumvbwvr jx bpr lmiwv yjeryrkbi jx qmbm wi bpr xjvni mkd ymibrut jx irhx wi bpr riirkvr jx ymbinlmtmipw utn qmumbr dj w ipmhh but bj rhnvwdmbr bpr yjeryrkbi jx bpr qmbm mvvjudwko bj yt wkbrusurbmbwjk lmird jk xjubt trmui jx ibndt wb wi kjb mk rmit bmiq bj rashmwk rmvp yjeryrkb mkd wbi iwokwxwvmkvr mkd ijyr ynib urymwk nkrashmwkrd bj ower m vjyshrbr rashmkmbwjk jkr cjnhd pmer bj lr fnmhwxwrd mkd wkiswurd bj invp mk rabrkb bpmb pr vjnhd urmvp bpr ibmbr jx rkhwopbrkrd ywkd vmsmlhr jx urvjokwgwko ijnkdhrii ijnkd mkd ipmsrhrii ipmsr w dj kjb drry ytirhx bpr xwkmh mnbpjuwbt lnb yt rasruwrkvr cwbp qmbm pmi hrxb kj djnlb bpmb bpr xjhhjcwko wi bpr sujsru msshwvmbwjk mkd wkbrusurbmbwjk w jxxru yt bprjuwri wk bpr pjsr bpmb bpr riirkvr jx jqwkmcmk qmumbr cwhh urymwk wkbmvb\"\n",
    "# encrypted_message = \"lrvmnir bpr sumvbwvr\"\n",
    "decryption_shift = 0\n",
    "\n",
    "\n",
    "deciphered_message = decipher_message(encrypted_message, decryption_shift, dictionary)\n",
    "print(deciphered_message)"
   ]
  },
  {
   "cell_type": "code",
   "execution_count": 93,
   "id": "87ed2ede",
   "metadata": {},
   "outputs": [],
   "source": [
    "# confirmed [j,w,i],[d,h,u], [l,q,o]"
   ]
  },
  {
   "cell_type": "code",
   "execution_count": 94,
   "id": "5ffb3fa8",
   "metadata": {},
   "outputs": [
    {
     "data": {
      "text/plain": [
       "('YECAWSE THE FRACTNCE IU THE YASNC MIVEMEOTS IU PATA NS THE UICWS AOD MASTERG IU SELU NS THE ESSEOCE IU MATSWYAGASHN RGW PARATE DI N SHALL TRG TI ELWCNDATE THE MIVEMEOTS IU THE PATA ACCIRDNOB TI MG NOTERFRETATNIO YASED IO UIRTG GEARS IU STWDG NT NS OIT AO EASG TASP TI EKFLANO EACH MIVEMEOT AOD NTS SNBONUNCAOCE AOD SIME MWST REMANO WOEKFLANOED TI BNVE A CIMFLETE EKFLAOATNIO IOE JIWLD HAVE TI YE XWALNUNED AOD NOSFNRED TI SWCH AO EKTEOT THAT HE CIWLD REACH THE STATE IU EOLNBHTEOED MNOD CAFAYLE IU RECIBONQNOB SIWODLESS SIWOD AOD SHAFELESS SHAFE N DI OIT DEEM MGSELU THE UNOAL AWTHIRNTG YWT MG EKFERNEOCE JNTH PATA HAS LEUT OI DIWYT THAT THE UILLIJNOB NS THE FRIFER AFFLNCATNIO AOD NOTERFRETATNIO N IUUER MG THEIRNES NO THE HIFE THAT THE ESSEOCE IU IPNOAJAO PARATE JNLL REMANO NOTACT',\n",
       " 'lrvmnir bpr sumvbwvr jx bpr lmiwv yjeryrkbi jx qmbm wi bpr xjvni mkd ymibrut jx irhx wi bpr riirkvr jx ymbinlmtmipw utn qmumbr dj w ipmhh but bj rhnvwdmbr bpr yjeryrkbi jx bpr qmbm mvvjudwko bj yt wkbrusurbmbwjk lmird jk xjubt trmui jx ibndt wb wi kjb mk rmit bmiq bj rashmwk rmvp yjeryrkb mkd wbi iwokwxwvmkvr mkd ijyr ynib urymwk nkrashmwkrd bj ower m vjyshrbr rashmkmbwjk jkr cjnhd pmer bj lr fnmhwxwrd mkd wkiswurd bj invp mk rabrkb bpmb pr vjnhd urmvp bpr ibmbr jx rkhwopbrkrd ywkd vmsmlhr jx urvjokwgwko ijnkdhrii ijnkd mkd ipmsrhrii ipmsr w dj kjb drry ytirhx bpr xwkmh mnbpjuwbt lnb yt rasruwrkvr cwbp qmbm pmi hrxb kj djnlb bpmb bpr xjhhjcwko wi bpr sujsru msshwvmbwjk mkd wkbrusurbmbwjk w jxxru yt bprjuwri wk bpr pjsr bpmb bpr riirkvr jx jqwkmcmk qmumbr cwhh urymwk wkbmvb')"
      ]
     },
     "execution_count": 94,
     "metadata": {},
     "output_type": "execute_result"
    }
   ],
   "source": [
    "deciphered_message, encrypted_message"
   ]
  },
  {
   "cell_type": "code",
   "execution_count": 95,
   "id": "18490c88",
   "metadata": {},
   "outputs": [
    {
     "name": "stdout",
     "output_type": "stream",
     "text": [
      "{'r': 'E', 'b': 'T', 'm': 'A', 'k': 'O', 'j': 'I', 'w': 'N', 'i': 'S', 'p': 'H', 'u': 'R', 'd': 'D', 'h': 'L', 'v': 'C', 'x': 'U', 'y': 'M', 'n': 'W', 's': 'F', 't': 'G', 'l': 'Y', 'q': 'P', 'o': 'B', 'e': 'V', 'a': 'K', 'c': 'J', 'f': 'X', 'g': 'Q'}\n",
      "{'r': 'E', 'b': 'T', 'm': 'A', 'k': 'N', 'j': 'O', 'w': 'I', 'i': 'S', 'p': 'H', 'u': 'R', 'd': 'D', 'h': 'L', 'v': 'C', 'x': 'F', 'y': 'M', 'n': 'U', 's': 'P', 't': 'Y', 'l': 'B', 'q': 'K', 'o': 'G', 'e': 'V', 'a': 'X', 'c': 'W', 'f': 'Q', 'g': 'Q'}\n"
     ]
    },
    {
     "data": {
      "text/plain": [
       "[(['BECAUSE'], ['lrvmnir']),\n",
       " (['THE'], ['bpr']),\n",
       " (['PRACTICE'], ['sumvbwvr']),\n",
       " (['OF'], ['jx']),\n",
       " (['THE'], ['bpr']),\n",
       " (['BASIC'], ['lmiwv']),\n",
       " (['MOVEMENTS'], ['yjeryrkbi']),\n",
       " (['OF'], ['jx']),\n",
       " (['KATA'], ['qmbm']),\n",
       " (['IS'], ['wi']),\n",
       " (['THE'], ['bpr']),\n",
       " (['FOCUS'], ['xjvni']),\n",
       " (['AND'], ['mkd']),\n",
       " (['MASTERY'], ['ymibrut']),\n",
       " (['OF'], ['jx']),\n",
       " (['SELF'], ['irhx']),\n",
       " (['IS'], ['wi']),\n",
       " (['THE'], ['bpr']),\n",
       " (['ESSENCE'], ['riirkvr']),\n",
       " (['OF'], ['jx']),\n",
       " (['MATSUBAYASHI'], ['ymbinlmtmipw']),\n",
       " (['RYU'], ['utn']),\n",
       " (['KARATE'], ['qmumbr']),\n",
       " (['DO'], ['dj']),\n",
       " (['I'], ['w']),\n",
       " (['SHALL'], ['ipmhh']),\n",
       " (['TRY'], ['but']),\n",
       " (['TO'], ['bj']),\n",
       " (['ELUCIDATE'], ['rhnvwdmbr']),\n",
       " (['THE'], ['bpr']),\n",
       " (['MOVEMENTS'], ['yjeryrkbi']),\n",
       " (['OF'], ['jx']),\n",
       " (['THE'], ['bpr']),\n",
       " (['KATA'], ['qmbm']),\n",
       " (['ACCORDING'], ['mvvjudwko']),\n",
       " (['TO'], ['bj']),\n",
       " (['MY'], ['yt']),\n",
       " (['INTERPRETATION'], ['wkbrusurbmbwjk']),\n",
       " (['BASED'], ['lmird']),\n",
       " (['ON'], ['jk']),\n",
       " (['FORTY'], ['xjubt']),\n",
       " (['YEARS'], ['trmui']),\n",
       " (['OF'], ['jx']),\n",
       " (['STUDY'], ['ibndt']),\n",
       " (['IT'], ['wb']),\n",
       " (['IS'], ['wi']),\n",
       " (['NOT'], ['kjb']),\n",
       " (['AN'], ['mk']),\n",
       " (['EASY'], ['rmit']),\n",
       " (['TASK'], ['bmiq']),\n",
       " (['TO'], ['bj']),\n",
       " (['EXPLAIN'], ['rashmwk']),\n",
       " (['EACH'], ['rmvp']),\n",
       " (['MOVEMENT'], ['yjeryrkb']),\n",
       " (['AND'], ['mkd']),\n",
       " (['ITS'], ['wbi']),\n",
       " (['SIGNIFICANCE'], ['iwokwxwvmkvr']),\n",
       " (['AND'], ['mkd']),\n",
       " (['SOME'], ['ijyr']),\n",
       " (['MUST'], ['ynib']),\n",
       " (['REMAIN'], ['urymwk']),\n",
       " (['UNEXPLAINED'], ['nkrashmwkrd']),\n",
       " (['TO'], ['bj']),\n",
       " (['GIVE'], ['ower']),\n",
       " (['A'], ['m']),\n",
       " (['COMPLETE'], ['vjyshrbr']),\n",
       " (['EXPLANATION'], ['rashmkmbwjk']),\n",
       " (['ONE'], ['jkr']),\n",
       " (['WOULD'], ['cjnhd']),\n",
       " (['HAVE'], ['pmer']),\n",
       " (['TO'], ['bj']),\n",
       " (['BE'], ['lr']),\n",
       " (['QUALIFIED'], ['fnmhwxwrd']),\n",
       " (['AND'], ['mkd']),\n",
       " (['INSPIRED'], ['wkiswurd']),\n",
       " (['TO'], ['bj']),\n",
       " (['SUCH'], ['invp']),\n",
       " (['AN'], ['mk']),\n",
       " (['EXTENT'], ['rabrkb']),\n",
       " (['THAT'], ['bpmb']),\n",
       " (['HE'], ['pr']),\n",
       " (['COULD'], ['vjnhd']),\n",
       " (['REACH'], ['urmvp']),\n",
       " (['THE'], ['bpr']),\n",
       " (['STATE'], ['ibmbr']),\n",
       " (['OF'], ['jx']),\n",
       " (['ENLIGHTENED'], ['rkhwopbrkrd']),\n",
       " (['MIND'], ['ywkd']),\n",
       " (['CAPABLE'], ['vmsmlhr']),\n",
       " (['OF'], ['jx']),\n",
       " (['RECOGNIQING'], ['urvjokwgwko']),\n",
       " (['SOUNDLESS'], ['ijnkdhrii']),\n",
       " (['SOUND'], ['ijnkd']),\n",
       " (['AND'], ['mkd']),\n",
       " (['SHAPELESS'], ['ipmsrhrii']),\n",
       " (['SHAPE'], ['ipmsr']),\n",
       " (['I'], ['w']),\n",
       " (['DO'], ['dj']),\n",
       " (['NOT'], ['kjb']),\n",
       " (['DEEM'], ['drry']),\n",
       " (['MYSELF'], ['ytirhx']),\n",
       " (['THE'], ['bpr']),\n",
       " (['FINAL'], ['xwkmh']),\n",
       " (['AUTHORITY'], ['mnbpjuwbt']),\n",
       " (['BUT'], ['lnb']),\n",
       " (['MY'], ['yt']),\n",
       " (['EXPERIENCE'], ['rasruwrkvr']),\n",
       " (['WITH'], ['cwbp']),\n",
       " (['KATA'], ['qmbm']),\n",
       " (['HAS'], ['pmi']),\n",
       " (['LEFT'], ['hrxb']),\n",
       " (['NO'], ['kj']),\n",
       " (['DOUBT'], ['djnlb']),\n",
       " (['THAT'], ['bpmb']),\n",
       " (['THE'], ['bpr']),\n",
       " (['FOLLOWING'], ['xjhhjcwko']),\n",
       " (['IS'], ['wi']),\n",
       " (['THE'], ['bpr']),\n",
       " (['PROPER'], ['sujsru']),\n",
       " (['APPLICATION'], ['msshwvmbwjk']),\n",
       " (['AND'], ['mkd']),\n",
       " (['INTERPRETATION'], ['wkbrusurbmbwjk']),\n",
       " (['I'], ['w']),\n",
       " (['OFFER'], ['jxxru']),\n",
       " (['MY'], ['yt']),\n",
       " (['THEORIES'], ['bprjuwri']),\n",
       " (['IN'], ['wk']),\n",
       " (['THE'], ['bpr']),\n",
       " (['HOPE'], ['pjsr']),\n",
       " (['THAT'], ['bpmb']),\n",
       " (['THE'], ['bpr']),\n",
       " (['ESSENCE'], ['riirkvr']),\n",
       " (['OF'], ['jx']),\n",
       " (['OKINAWAN'], ['jqwkmcmk']),\n",
       " (['KARATE'], ['qmumbr']),\n",
       " (['WILL'], ['cwhh']),\n",
       " (['REMAIN'], ['urymwk']),\n",
       " (['INTACT'], ['wkbmvb'])]"
      ]
     },
     "execution_count": 95,
     "metadata": {},
     "output_type": "execute_result"
    }
   ],
   "source": [
    "# test one by one\n",
    "print(dictionary1)\n",
    "dictionary[\"l\"]=\"B\"\n",
    "dictionary[\"v\"]=\"C\"\n",
    "dictionary[\"i\"]=\"S\"\n",
    "dictionary[\"n\"]=\"U\"\n",
    "dictionary[\"s\"]=\"P\"\n",
    "dictionary[\"w\"]=\"I\"\n",
    "dictionary[\"j\"]=\"O\"\n",
    "dictionary[\"k\"]=\"N\"\n",
    "dictionary[\"x\"]=\"F\"\n",
    "dictionary[\"o\"]=\"G\"\n",
    "dictionary[\"a\"]=\"X\"\n",
    "dictionary[\"f\"]=\"Q\"\n",
    "dictionary[\"q\"]=\"K\"\n",
    "dictionary[\"c\"]=\"W\"\n",
    "dictionary[\"t\"]=\"Y\"\n",
    "\n",
    "print(dictionary)\n",
    "\n",
    "\n",
    "\n",
    "deciphered_message = decipher_message(encrypted_message, decryption_shift, dictionary)\n",
    "# use map to compare token word by token word\n",
    "[x for x in zip(map(str.split, deciphered_message.split()), map(str.split, encrypted_message.split()))]"
   ]
  },
  {
   "cell_type": "code",
   "execution_count": 96,
   "id": "fae05f6f",
   "metadata": {},
   "outputs": [
    {
     "data": {
      "text/plain": [
       "'BECAUSE THE PRACTICE OF THE BASIC MOVEMENTS OF KATA IS THE FOCUS AND MASTERY OF SELF IS THE ESSENCE OF MATSUBAYASHI RYU KARATE DO I SHALL TRY TO ELUCIDATE THE MOVEMENTS OF THE KATA ACCORDING TO MY INTERPRETATION BASED ON FORTY YEARS OF STUDY IT IS NOT AN EASY TASK TO EXPLAIN EACH MOVEMENT AND ITS SIGNIFICANCE AND SOME MUST REMAIN UNEXPLAINED TO GIVE A COMPLETE EXPLANATION ONE WOULD HAVE TO BE QUALIFIED AND INSPIRED TO SUCH AN EXTENT THAT HE COULD REACH THE STATE OF ENLIGHTENED MIND CAPABLE OF RECOGNIQING SOUNDLESS SOUND AND SHAPELESS SHAPE I DO NOT DEEM MYSELF THE FINAL AUTHORITY BUT MY EXPERIENCE WITH KATA HAS LEFT NO DOUBT THAT THE FOLLOWING IS THE PROPER APPLICATION AND INTERPRETATION I OFFER MY THEORIES IN THE HOPE THAT THE ESSENCE OF OKINAWAN KARATE WILL REMAIN INTACT'"
      ]
     },
     "execution_count": 96,
     "metadata": {},
     "output_type": "execute_result"
    }
   ],
   "source": [
    "deciphered_message"
   ]
  },
  {
   "cell_type": "code",
   "execution_count": 97,
   "id": "6d4cef17",
   "metadata": {},
   "outputs": [],
   "source": [
    "encrypted_message2 = \"xultpaajcxitltlxaarpjhtiwtgxktghidhipxciwtvgtpilpitghlxiwiwtxgqadds\""
   ]
  },
  {
   "cell_type": "code",
   "execution_count": 105,
   "id": "a65391dd",
   "metadata": {},
   "outputs": [],
   "source": [
    "char_frequencies2 = {\n",
    "    't': 10,\n",
    "    'i': 9,\n",
    "    'x': 7,\n",
    "    'l': 5,\n",
    "    'p': 5,\n",
    "    'a': 5,\n",
    "    'g': 5,\n",
    "    'h': 4,\n",
    "    'w': 4,\n",
    "    'd': 3,\n",
    "    'j': 2,\n",
    "    'c': 2,\n",
    "    'u': 1,\n",
    "    'r': 1,\n",
    "    'k': 1,\n",
    "    'v': 1,\n",
    "    'q': 1,\n",
    "    's': 1\n",
    "}\n",
    "\n"
   ]
  },
  {
   "cell_type": "code",
   "execution_count": 106,
   "id": "41d22a60",
   "metadata": {},
   "outputs": [],
   "source": [
    "def df_todecipher(char_frequencies):\n",
    "    \n",
    "\n",
    "    df_todecipher = pd.DataFrame.from_dict(char_frequencies, orient='index', columns=['frequency-todecipher'])\n",
    "    df_todecipher = df_todecipher.sort_values(\"frequency-todecipher\", ascending=False).reset_index()\n",
    "    df_todecipher.columns = ['Letter', 'Frequency']\n",
    "    df_todecipher['Frequency']\n",
    "    df_todecipher.head()\n",
    "    df_todecipher = df_todecipher.rename(columns={\"Letter\":\"letter_todecipher\",\"Frequency\":\"frequency-todecipher\"})\n",
    "    return df_todecipher\n",
    "\n",
    "df_todecipher = df_todecipher(char_frequencies2)"
   ]
  },
  {
   "cell_type": "code",
   "execution_count": 107,
   "id": "556e592c",
   "metadata": {},
   "outputs": [],
   "source": [
    "joiner2 = joiner_function(df_todecipher, df_english)"
   ]
  },
  {
   "cell_type": "code",
   "execution_count": 108,
   "id": "40d1e075",
   "metadata": {},
   "outputs": [],
   "source": [
    "dictionary21, dictionary2 = create_dico_function(joiner2)"
   ]
  },
  {
   "cell_type": "code",
   "execution_count": 111,
   "id": "a3997071",
   "metadata": {},
   "outputs": [],
   "source": [
    "def substitute_letter(letter, substitution_key):\n",
    "    # If the letter is in the substitution key, return the substitution\n",
    "    if letter in substitution_key:\n",
    "        return substitution_key[letter]\n",
    "    # If the letter is not in the substitution key, return the original letter\n",
    "    else:\n",
    "        return letter\n",
    "\n",
    "def decipher_message(ciphertext, shift, substitution_key):\n",
    "    plaintext = \"\"\n",
    "    \n",
    "    # Iterate over each character in the ciphertext\n",
    "    for char in ciphertext:\n",
    "        # Check if the character is a letter\n",
    "        if char.isalpha():\n",
    "            \n",
    "            # Apply the Caesar cipher decryption by shifting back\n",
    "            decrypted_char = chr((ord(char) - shift - 65) % 26 + 65)\n",
    "#             decrypted_char = char\n",
    "#             decrypted_char = char\n",
    "            # Apply the substitution key to get the substituted letter\n",
    "            substituted_char = substitute_letter(decrypted_char, substitution_key)\n",
    "            \n",
    "            # Append the substituted letter to the plaintext\n",
    "            plaintext += substituted_char\n",
    "        else:\n",
    "            # Append non-alphabetic characters directly\n",
    "            plaintext += char\n",
    "    \n",
    "    return plaintext\n"
   ]
  },
  {
   "cell_type": "code",
   "execution_count": 124,
   "id": "264cdca8",
   "metadata": {},
   "outputs": [
    {
     "name": "stdout",
     "output_type": "stream",
     "text": [
      "{'r': 'E', 'b': 'T', 'm': 'A', 'k': 'N', 'j': 'O', 'w': 'I', 'i': 'S', 'p': 'H', 'u': 'R', 'd': 'D', 'h': 'L', 'v': 'C', 'x': 'F', 'y': 'M', 'n': 'U', 's': 'P', 't': 'Y', 'l': 'B', 'q': 'K', 'o': 'G', 'e': 'V', 'a': 'X', 'c': 'W', 'f': 'Q', 'g': 'Q'}\n"
     ]
    }
   ],
   "source": [
    "print(dictionary)\n",
    "\n",
    "\n",
    "lister = []\n",
    "\n",
    "# char frequenties, english frequencies, brute-force loop\n",
    "for decryption_shift in range(len(encrypted_message2)):\n",
    "    deciphered_message2 = decipher_message(encrypted_message2, decryption_shift, dictionary2)\n",
    "    # use map to compare token word by token word\n",
    "    a = [(decryption_shift, x) for x in zip(map(str.split, deciphered_message2.split()), map(str.split, encrypted_message2.split()))]\n",
    "    lister.append(a)"
   ]
  },
  {
   "cell_type": "code",
   "execution_count": 132,
   "id": "b6bcf4f9",
   "metadata": {},
   "outputs": [
    {
     "data": {
      "text/plain": [
       "[(47,\n",
       "  (['IFWEALLUNITEWEWILLCAUSETHERIVERSTOSTAINTHEGREATWATERSWITHTHEIRBLOOD'],\n",
       "   ['xultpaajcxitltlxaarpjhtiwtgxktghidhipxciwtvgtpilpitghlxiwiwtxgqadds']))]"
      ]
     },
     "execution_count": 132,
     "metadata": {},
     "output_type": "execute_result"
    }
   ],
   "source": [
    "lister[47]"
   ]
  },
  {
   "cell_type": "markdown",
   "id": "03152611",
   "metadata": {},
   "source": [
    "# 1.2.1 Response\n",
    "\"IF WE ALL UNITE, WE WILL CAUSE THE RIVERS TO STAIN THE GREAT WATERS WITH THEIR BLOOD\""
   ]
  },
  {
   "cell_type": "code",
   "execution_count": null,
   "id": "c5130a95",
   "metadata": {},
   "outputs": [],
   "source": [
    "1.3.1"
   ]
  },
  {
   "cell_type": "code",
   "execution_count": 144,
   "id": "d6ab42d1",
   "metadata": {},
   "outputs": [
    {
     "data": {
      "text/plain": [
       "10000000000000.0"
      ]
     },
     "execution_count": 144,
     "metadata": {},
     "output_type": "execute_result"
    }
   ],
   "source": [
    "keysize = 128 #in bits\n",
    "speed = 5*10**8\n",
    "budget = 1*10**6\n",
    "keynumber = 3.4*10**38\n",
    "priceAsics = 50 #in euro\n",
    "\n",
    "total_speed = budget/priceAsics*speed\n"
   ]
  },
  {
   "cell_type": "code",
   "execution_count": 146,
   "id": "fa4ea478",
   "metadata": {},
   "outputs": [
    {
     "name": "stdout",
     "output_type": "stream",
     "text": [
      "3.4e+25\n",
      "1.7e+25\n"
     ]
    }
   ],
   "source": [
    "\"\"\"\n",
    "1. Assume that an attacker has a special purpose application specific integrated cir\u0002cuit (ASIC) which checks 5 · 108 keys per second, and she has a budget of $1\n",
    "million. One ASIC costs $50, and we assume 100% overhead for integrating\n",
    "1.6 Problems 25\n",
    "the ASIC (manufacturing the printed circuit boards, power supply, cooling, etc.).\n",
    "How many ASICs can we run in parallel with the given budget? How long does\n",
    "an average key search take? Relate this time to the age of the Universe, which is\n",
    "about 1010 years\n",
    "\"\"\"\n",
    "deciphering_time = keynumber/total_speed\n",
    "print(deciphering_time)\n",
    "average_deciphering_time = deciphering_time/2\n",
    "average_deciphering_time\n",
    "print(average_deciphering_time)"
   ]
  },
  {
   "cell_type": "code",
   "execution_count": null,
   "id": "14936384",
   "metadata": {},
   "outputs": [],
   "source": [
    "1.3.2"
   ]
  },
  {
   "cell_type": "code",
   "execution_count": 150,
   "id": "49ecef82",
   "metadata": {},
   "outputs": [
    {
     "name": "stdout",
     "output_type": "stream",
     "text": [
      "-12.498609162048067\n",
      "-18.7479137430721\n"
     ]
    },
    {
     "data": {
      "text/plain": [
       "'\\n# Response \\nAccording to Moore law, it need 19 years in average, 19 years \\n'"
      ]
     },
     "execution_count": 150,
     "metadata": {},
     "output_type": "execute_result"
    }
   ],
   "source": [
    "\"\"\"\n",
    " We try now to take advances in computer technology into account. Predicting\n",
    "the future tends to be tricky but the estimate usually applied is Moore’s Law,\n",
    "which states that the computer power doubles every 18 months while the costs\n",
    "of integrated circuits stay constant. How many years do we have to wait until a\n",
    "key-search machine can be built for breaking AES with 128 bit with an average\n",
    "search time of 24 hours? Again, assume a budget of $1 million (do not take\n",
    "inflation into account).\n",
    "\"\"\"\n",
    "\n",
    "\"\"\"\n",
    "5 * 10^8 * (2^d) = 24 * 60 * 60 seconds\n",
    "\n",
    "To simplify the equation, we can rewrite 24 * 60 * 60 seconds as 86400 seconds.\n",
    "\n",
    "5 * 10^8 * (2^d) = 86400\n",
    "\n",
    "Dividing both sides of the equation by 5 * 10^8:\n",
    "\n",
    "2^d = 86400 / (5 * 10^8)\n",
    "\n",
    "To isolate d, take the logarithm base 2 of both sides:\n",
    "\n",
    "d = log2(86400 / (5 * 10^8))\n",
    "\n",
    "\"\"\"\n",
    "\n",
    "import math\n",
    "\n",
    "d = math.log2(86400 / (5 * 10**8))\n",
    "print(d)\n",
    "print(d*1.5)\n",
    "\"\"\"\n",
    "# Response \n",
    "According to Moore law, it need 19 years in average, 19 years \n",
    "\"\"\""
   ]
  },
  {
   "cell_type": "code",
   "execution_count": 152,
   "id": "e06f4be1",
   "metadata": {},
   "outputs": [
    {
     "data": {
      "text/plain": [
       "'\\nSoit 2**56\\n'"
      ]
     },
     "execution_count": 152,
     "metadata": {},
     "output_type": "execute_result"
    }
   ],
   "source": [
    "\"\"\"\n",
    "1.4. We now consider the relation between passwords and key size. For this purpose\n",
    "we consider a cryptosystem where the user enters a key in the form of a password.\n",
    "1. Assume a password consisting of 8 letters, where each letter is encoded by the\n",
    "ASCII scheme (7 bits per character, i.e., 128 possible characters). What is the\n",
    "size of the key space which can be constructed by such passwords?\n",
    "2. What is the corresponding key length in bits?\n",
    "3. Assume that most users use only the 26 lowercase letters from the alphabet in\u0002stead of the full 7 bits of the ASCII-encoding. What is the corresponding key\n",
    "length in bits in this case?\n",
    "4. At least how many characters are required for a password in order to generate a\n",
    "key length of 128 bits in case of letters consisting of\n",
    "a. 7-bit characters?\n",
    "b. 26 lowercase letters from the alphabet?\n",
    "\"\"\"\n",
    "\n",
    "\"\"\"\n",
    "1. \n",
    "\"\"\"\n",
    "\n",
    "bits = 2**7\n",
    "letternumber=2**8\n",
    "key_size = bits**letternumber\n",
    "# print(key_size)\n",
    "\n",
    "\"\"\"\n",
    "Soit 2**56\n",
    "\"\"\""
   ]
  },
  {
   "cell_type": "code",
   "execution_count": 157,
   "id": "82c2ad41",
   "metadata": {},
   "outputs": [
    {
     "data": {
      "text/plain": [
       "27.231494854830483"
      ]
     },
     "execution_count": 157,
     "metadata": {},
     "output_type": "execute_result"
    }
   ],
   "source": [
    "import math\n",
    "\"\"\"\n",
    "4. At least how many characters are required for a password in order to generate a\n",
    "key length of 128 bits in case of letters consisting of\n",
    "\"\"\"\n",
    "\"\"\"\n",
    "a. 7-bit characters?\n",
    "n = number of character\n",
    "\n",
    "7*n=128 bits\n",
    "<=> n=128/7\n",
    "\"\"\"\n",
    "n = math.ceil(128/7)\n",
    "\"\"\"\n",
    "we need 19 caracters\n",
    "\"\"\"\n",
    "\n",
    "\"\"\"\n",
    "b. 26 lowercase letters from the alphabet?\n",
    "\n",
    "Since we have 26 possible characters (assuming only lowercase letters), we need to solve the equation 26^N = 2^128, where N represents the number of characters.\n",
    "\n",
    "Taking the logarithm base 26 of both sides:\n",
    "log26(26^N) = log26(2^128)\n",
    "\n",
    "Applying the exponentiation rule loga(a^b) = b:\n",
    "N = log26(2^128)\n",
    "\n",
    "Calculating the value:\n",
    "N ≈ log26(3.4028 * 10^38)\n",
    "\n",
    "\"\"\"\n",
    "import math\n",
    "\n",
    "N = math.log(2**128, 26)\n",
    "print(N)\n",
    "\n",
    "# we need 28 letters"
   ]
  },
  {
   "cell_type": "code",
   "execution_count": null,
   "id": "c7c78886",
   "metadata": {},
   "outputs": [],
   "source": [
    "\"\"\"\n",
    "1.5. As we learned in this chapter, modular arithmetic is the basis of many cryp\u0002tosystems. As a consequence, we will address this topic with several problems in\n",
    "this and upcoming chapters.\n",
    "Let’s start with an easy one: Compute the result without a calculator.\n",
    "1. 15 · 29 mod 13\n",
    "2. 2 · 29 mod 13\n",
    "3. 2 · 3 mod 13\n",
    "4. −11 · 3 mod 13\n",
    "\"\"\"\n",
    "#1. \n",
    "13*1+2\n",
    "13*2+3\n",
    "r = 2*3 = 6\n",
    "#2: r = 2*3 = 6\n",
    "#3 : r = 6\n",
    "#4: r = 6"
   ]
  },
  {
   "cell_type": "code",
   "execution_count": 160,
   "id": "667f1e9b",
   "metadata": {},
   "outputs": [
    {
     "data": {
      "text/plain": [
       "'\\n1.\\n13 = 5*1+8\\nremainer = 8\\n2.\\n7 = 5*1+2\\nremainer = 2\\n3.\\n3*1/8mod7\\n6/5mod7\\n5**-1mod7\\nsubremainer1=2\\n6mod7\\nsubremainer2=6\\nremainer=subremainer1*subremainer2=12\\n12-7=5\\n5mod7\\n'"
      ]
     },
     "execution_count": 160,
     "metadata": {},
     "output_type": "execute_result"
    }
   ],
   "source": [
    "\"\"\"\n",
    "1.6. Compute without a calculator:\n",
    "1. 1/5 mod 13\n",
    "2. 1/5 mod 7\n",
    "3. 3 · 2/5 mod 7\n",
    "\"\"\"\n",
    "\n",
    "\n",
    "\"\"\"\n",
    "1.\n",
    "13 = 5*1+8\n",
    "remainer = 8\n",
    "2.\n",
    "7 = 5*1+2\n",
    "remainer = 2\n",
    "3.\n",
    "3*1/8mod7\n",
    "6/5mod7\n",
    "5**-1mod7\n",
    "subremainer1=2\n",
    "6mod7\n",
    "subremainer2=6\n",
    "remainer=subremainer1*subremainer2=12\n",
    "12-7=5\n",
    "5mod7\n",
    "\"\"\"\n"
   ]
  },
  {
   "cell_type": "raw",
   "id": "9754c87e",
   "metadata": {},
   "source": [
    "1. Z4 multiplication table\n",
    "|+|0|1|2|3|\n",
    "|0|0|0|0|0|\n",
    "|1|0|1|2|3|\n",
    "|2|0|2|0|2|\n",
    "|3|0|3|2|1|\n",
    "\n",
    "1. Z5 multiplication and addition tables\n",
    "|+|0|1|2|3|4|5|\n",
    "|0|0|0|0|0|0|0|\n",
    "|1|0|1|2|3|4|5|\n",
    "|2|0|1|2|3|4|5|\n",
    "|3|0|1|2|3|4|5|\n",
    "|4|0|1|2|3|4|5|\n",
    "|5|0|1|2|3|4|5|"
   ]
  }
 ],
 "metadata": {
  "kernelspec": {
   "display_name": "Python 3 (ipykernel)",
   "language": "python",
   "name": "python3"
  },
  "language_info": {
   "codemirror_mode": {
    "name": "ipython",
    "version": 3
   },
   "file_extension": ".py",
   "mimetype": "text/x-python",
   "name": "python",
   "nbconvert_exporter": "python",
   "pygments_lexer": "ipython3",
   "version": "3.11.4"
  }
 },
 "nbformat": 4,
 "nbformat_minor": 5
}
