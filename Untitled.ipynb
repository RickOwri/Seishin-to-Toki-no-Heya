{
 "cells": [
  {
   "cell_type": "markdown",
   "id": "260d17b3",
   "metadata": {},
   "source": [
    "1.1. The ciphertext below was encrypted using a substitution cipher. Decrypt the ci\u0002phertext without knowledge of the key.\n",
    "lrvmnir bpr sumvbwvr jx bpr lmiwv yjeryrkbi jx qmbm wi\n",
    "bpr xjvni mkd ymibrut jx irhx wi bpr riirkvr jx\n",
    "ymbinlmtmipw utn qmumbr dj w ipmhh but bj rhnvwdmbr bpr\n",
    "yjeryrkbi jx bpr qmbm mvvjudwko bj yt wkbrusurbmbwjk\n",
    "lmird jk xjubt trmui jx ibndt\n",
    "wb wi kjb mk rmit bmiq bj rashmwk rmvp yjeryrkb mkd wbi\n",
    "iwokwxwvmkvr mkd ijyr ynib urymwk nkrashmwkrd bj ower m\n",
    "vjyshrbr rashmkmbwjk jkr cjnhd pmer bj lr fnmhwxwrd mkd\n",
    "wkiswurd bj invp mk rabrkb bpmb pr vjnhd urmvp bpr ibmbr\n",
    "jx rkhwopbrkrd ywkd vmsmlhr jx urvjokwgwko ijnkdhrii\n",
    "ijnkd mkd ipmsrhrii ipmsr w dj kjb drry ytirhx bpr xwkmh\n",
    "mnbpjuwbt lnb yt rasruwrkvr cwbp qmbm pmi hrxb kj djnlb\n",
    "bpmb bpr xjhhjcwko wi bpr sujsru msshwvmbwjk mkd\n",
    "wkbrusurbmbwjk w jxxru yt bprjuwri wk bpr pjsr bpmb bpr\n",
    "riirkvr jx jqwkmcmk qmumbr cwhh urymwk wkbmvb\n",
    "1. Compute the relative frequency of all letters A...Z in the ciphertext. You may\n",
    "want to use a tool such as the open-source program CrypTool [50] for this task.\n",
    "However, a paper and pencil approach is also still doable.\n",
    "2. Decrypt the ciphertext with the help of the relative letter frequency of the English\n",
    "language (see Table 1.1 in Sect. 1.2.2). Note that the text is relatively short and\n",
    "that the letter frequencies in it might not perfectly align with that of general\n",
    "English language from the table.\n",
    "3. Who wrote the text?"
   ]
  },
  {
   "cell_type": "code",
   "execution_count": 6,
   "id": "bc4bc76f",
   "metadata": {},
   "outputs": [],
   "source": [
    "from collections import Counter\n",
    "import string\n",
    "import pandas as pd\n",
    "\n",
    "\n",
    "def calculate_relative_frequency(ciphertext):\n",
    "    # Remove non-alphabetic characters and convert to lowercase\n",
    "    ciphertext = ''.join(char.lower() for char in ciphertext if char.isalpha())\n",
    "\n",
    "    # Calculate total count of each letter\n",
    "    total_count = len(ciphertext)\n",
    "\n",
    "    # Use Counter to count occurrences of each letter\n",
    "    letter_count = Counter(ciphertext)\n",
    "\n",
    "    # Calculate relative frequency of each letter\n",
    "    relative_frequency = {letter: count / total_count for letter, count in letter_count.items()}\n",
    "\n",
    "    return relative_frequency\n",
    "\n",
    "# Example usage:\n",
    "ciphertext = \"lrvmnir bpr sumvbwvr jx bpr lmiwv yjeryrkbi jx qmbm wi bpr xjvni mkd ymibrut jx irhx wi bpr riirkvr jx ymbinlmtmipw utn qmumbr dj w ipmhh but bj rhnvwdmbr bpr yjeryrkbi jx bpr qmbm mvvjudwko bj yt wkbrusurbmbwjk lmird jk xjubt trmui jx ibndt wb wi kjb mk rmit bmiq bj rashmwk rmvp yjeryrkb mkd wbi iwokwxwvmkvr mkd ijyr ynib urymwk nkrashmwkrd bj ower m vjyshrbr rashmkmbwjk jkr cjnhd pmer bj lr fnmhwxwrd mkd wkiswurd bj invp mk rabrkb bpmb pr vjnhd urmvp bpr ibmbr jx rkhwopbrkrd ywkd vmsmlhr jx urvjokwgwko ijnkdhrii ijnkd mkd ipmsrhrii ipmsr w dj kjb drry ytirhx bpr xwkmh mnbpjuwbt lnb yt rasruwrkvr cwbp qmbm pmi hrxb kj djnlb bpmb bpr xjhhjcwko wi bpr sujsru msshwv\"\n",
    "\n",
    "relative_freq = calculate_relative_frequency(ciphertext)\n",
    "\n",
    "dict_letter = {}\n",
    "\n",
    "# Print the relative frequencies\n",
    "for letter in string.ascii_lowercase:\n",
    "    dict_letter[letter] = relative_freq.get(letter, 0)\n",
    "#     print(f\"{letter}: {relative_freq.get(letter, 0)}\")\n"
   ]
  },
  {
   "cell_type": "code",
   "execution_count": 9,
   "id": "a864f1e4",
   "metadata": {},
   "outputs": [],
   "source": [
    "df = pd.DataFrame.from_dict(relative_freq, orient='index', columns=['Relative Frequency'])\n"
   ]
  },
  {
   "cell_type": "code",
   "execution_count": 18,
   "id": "f5e3a496",
   "metadata": {},
   "outputs": [
    {
     "ename": "TypeError",
     "evalue": "DataFrame.sort_values() missing 1 required positional argument: 'by'",
     "output_type": "error",
     "traceback": [
      "\u001b[0;31m---------------------------------------------------------------------------\u001b[0m",
      "\u001b[0;31mTypeError\u001b[0m                                 Traceback (most recent call last)",
      "Cell \u001b[0;32mIn[18], line 1\u001b[0m\n\u001b[0;32m----> 1\u001b[0m \u001b[43mdf\u001b[49m\u001b[38;5;241;43m.\u001b[39;49m\u001b[43msort_values\u001b[49m\u001b[43m(\u001b[49m\u001b[43m)\u001b[49m\n",
      "File \u001b[0;32m~/anaconda3/envs/llm/lib/python3.11/site-packages/pandas/util/_decorators.py:331\u001b[0m, in \u001b[0;36mdeprecate_nonkeyword_arguments.<locals>.decorate.<locals>.wrapper\u001b[0;34m(*args, **kwargs)\u001b[0m\n\u001b[1;32m    325\u001b[0m \u001b[38;5;28;01mif\u001b[39;00m \u001b[38;5;28mlen\u001b[39m(args) \u001b[38;5;241m>\u001b[39m num_allow_args:\n\u001b[1;32m    326\u001b[0m     warnings\u001b[38;5;241m.\u001b[39mwarn(\n\u001b[1;32m    327\u001b[0m         msg\u001b[38;5;241m.\u001b[39mformat(arguments\u001b[38;5;241m=\u001b[39m_format_argument_list(allow_args)),\n\u001b[1;32m    328\u001b[0m         \u001b[38;5;167;01mFutureWarning\u001b[39;00m,\n\u001b[1;32m    329\u001b[0m         stacklevel\u001b[38;5;241m=\u001b[39mfind_stack_level(),\n\u001b[1;32m    330\u001b[0m     )\n\u001b[0;32m--> 331\u001b[0m \u001b[38;5;28;01mreturn\u001b[39;00m \u001b[43mfunc\u001b[49m\u001b[43m(\u001b[49m\u001b[38;5;241;43m*\u001b[39;49m\u001b[43margs\u001b[49m\u001b[43m,\u001b[49m\u001b[43m \u001b[49m\u001b[38;5;241;43m*\u001b[39;49m\u001b[38;5;241;43m*\u001b[39;49m\u001b[43mkwargs\u001b[49m\u001b[43m)\u001b[49m\n",
      "\u001b[0;31mTypeError\u001b[0m: DataFrame.sort_values() missing 1 required positional argument: 'by'"
     ]
    }
   ],
   "source": [
    "df.sort_values()"
   ]
  },
  {
   "cell_type": "code",
   "execution_count": 2,
   "id": "2144fe9b",
   "metadata": {},
   "outputs": [
    {
     "name": "stdout",
     "output_type": "stream",
     "text": [
      "Initialized empty Git repository in /home/coder/cryptography/.git/\r\n"
     ]
    }
   ],
   "source": [
    "!git init"
   ]
  },
  {
   "cell_type": "code",
   "execution_count": 4,
   "id": "b798d3da",
   "metadata": {},
   "outputs": [
    {
     "name": "stdout",
     "output_type": "stream",
     "text": [
      "[master (root-commit) cbc7548] crypto-init\r\n",
      " 3 files changed, 158 insertions(+)\r\n",
      " create mode 100644 .ipynb_checkpoints/Untitled-checkpoint.ipynb\r\n",
      " create mode 100644 Untitled.ipynb\r\n",
      " create mode 100644 assignment1.ipynb\r\n"
     ]
    }
   ],
   "source": [
    "!git commit -m crypto-init"
   ]
  }
 ],
 "metadata": {
  "kernelspec": {
   "display_name": "Python 3 (ipykernel)",
   "language": "python",
   "name": "python3"
  },
  "language_info": {
   "codemirror_mode": {
    "name": "ipython",
    "version": 3
   },
   "file_extension": ".py",
   "mimetype": "text/x-python",
   "name": "python",
   "nbconvert_exporter": "python",
   "pygments_lexer": "ipython3",
   "version": "3.11.4"
  }
 },
 "nbformat": 4,
 "nbformat_minor": 5
}
