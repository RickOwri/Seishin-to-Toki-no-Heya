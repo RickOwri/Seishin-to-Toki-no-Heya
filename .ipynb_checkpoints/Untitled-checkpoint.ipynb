{
 "cells": [
  {
   "cell_type": "markdown",
   "id": "790a4a28",
   "metadata": {},
   "source": [
    "1.1. The ciphertext below was encrypted using a substitution cipher. Decrypt the ci\u0002phertext without knowledge of the key.\n",
    "lrvmnir bpr sumvbwvr jx bpr lmiwv yjeryrkbi jx qmbm wi\n",
    "bpr xjvni mkd ymibrut jx irhx wi bpr riirkvr jx\n",
    "ymbinlmtmipw utn qmumbr dj w ipmhh but bj rhnvwdmbr bpr\n",
    "yjeryrkbi jx bpr qmbm mvvjudwko bj yt wkbrusurbmbwjk\n",
    "lmird jk xjubt trmui jx ibndt\n",
    "wb wi kjb mk rmit bmiq bj rashmwk rmvp yjeryrkb mkd wbi\n",
    "iwokwxwvmkvr mkd ijyr ynib urymwk nkrashmwkrd bj ower m\n",
    "vjyshrbr rashmkmbwjk jkr cjnhd pmer bj lr fnmhwxwrd mkd\n",
    "wkiswurd bj invp mk rabrkb bpmb pr vjnhd urmvp bpr ibmbr\n",
    "jx rkhwopbrkrd ywkd vmsmlhr jx urvjokwgwko ijnkdhrii\n",
    "ijnkd mkd ipmsrhrii ipmsr w dj kjb drry ytirhx bpr xwkmh\n",
    "mnbpjuwbt lnb yt rasruwrkvr cwbp qmbm pmi hrxb kj djnlb\n",
    "bpmb bpr xjhhjcwko wi bpr sujsru msshwvmbwjk mkd\n",
    "wkbrusurbmbwjk w jxxru yt bprjuwri wk bpr pjsr bpmb bpr\n",
    "riirkvr jx jqwkmcmk qmumbr cwhh urymwk wkbmvb\n",
    "1. Compute the relative frequency of all letters A...Z in the ciphertext. You may\n",
    "want to use a tool such as the open-source program CrypTool [50] for this task.\n",
    "However, a paper and pencil approach is also still doable.\n",
    "2. Decrypt the ciphertext with the help of the relative letter frequency of the English\n",
    "language (see Table 1.1 in Sect. 1.2.2). Note that the text is relatively short and\n",
    "that the letter frequencies in it might not perfectly align with that of general\n",
    "English language from the table.\n",
    "3. Who wrote the text?"
   ]
  },
  {
   "cell_type": "code",
   "execution_count": 141,
   "id": "d42244c7",
   "metadata": {},
   "outputs": [],
   "source": [
    "from collections import Counter\n",
    "import string\n",
    "import pandas as pd\n",
    "\n",
    "\n",
    "def calculate_relative_frequency(ciphertext):\n",
    "    # Remove non-alphabetic characters and convert to lowercase\n",
    "    ciphertext = ''.join(char.lower() for char in ciphertext if char.isalpha())\n",
    "\n",
    "    # Calculate total count of each letter\n",
    "    total_count = len(ciphertext)\n",
    "\n",
    "    # Use Counter to count occurrences of each letter\n",
    "    letter_count = Counter(ciphertext)\n",
    "\n",
    "    # Calculate relative frequency of each letter\n",
    "    relative_frequency = {letter: count / total_count for letter, count in letter_count.items()}\n",
    "\n",
    "    return relative_frequency\n",
    "\n",
    "# Example usage:\n",
    "ciphertext = \"lrvmnir bpr sumvbwvr jx bpr lmiwv yjeryrkbi jx qmbm wi bpr xjvni mkd ymibrut jx irhx wi bpr riirkvr jx ymbinlmtmipw utn qmumbr dj w ipmhh but bj rhnvwdmbr bpr yjeryrkbi jx bpr qmbm mvvjudwko bj yt wkbrusurbmbwjk lmird jk xjubt trmui jx ibndt wb wi kjb mk rmit bmiq bj rashmwk rmvp yjeryrkb mkd wbi iwokwxwvmkvr mkd ijyr ynib urymwk nkrashmwkrd bj ower m vjyshrbr rashmkmbwjk jkr cjnhd pmer bj lr fnmhwxwrd mkd wkiswurd bj invp mk rabrkb bpmb pr vjnhd urmvp bpr ibmbr jx rkhwopbrkrd ywkd vmsmlhr jx urvjokwgwko ijnkdhrii ijnkd mkd ipmsrhrii ipmsr w dj kjb drry ytirhx bpr xwkmh mnbpjuwbt lnb yt rasruwrkvr cwbp qmbm pmi hrxb kj djnlb bpmb bpr xjhhjcwko wi bpr sujsru msshwv\"\n",
    "\n",
    "relative_freq = calculate_relative_frequency(ciphertext)\n",
    "\n",
    "dict_letter = {}\n",
    "\n",
    "# Print the relative frequencies\n",
    "for letter in string.ascii_lowercase:\n",
    "    dict_letter[letter] = relative_freq.get(letter, 0)\n",
    "#     print(f\"{letter}: {relative_freq.get(letter, 0)}\")\n",
    "\n",
    "\n",
    "df_todecipher = pd.DataFrame.from_dict(relative_freq, orient='indexer', columns=['frequency-todecipher'])\n",
    "df_todecipher = df_todecipher.sort_values(\"frequency-todecipher\", ascending=False).reset_index(drop=False)\n"
   ]
  },
  {
   "cell_type": "code",
   "execution_count": null,
   "id": "beab623d",
   "metadata": {},
   "outputs": [],
   "source": []
  },
  {
   "cell_type": "code",
   "execution_count": 135,
   "id": "9efbaca5",
   "metadata": {},
   "outputs": [],
   "source": [
    "import pandas as pd\n",
    "\n",
    "# Create a dictionary with the frequency of letters in the English language\n",
    "# The values represent the frequencies in percent\n",
    "letter_frequencies = {\n",
    "    'a': 8.167, 'b': 1.492, 'c': 2.782, 'd': 4.253, 'e': 12.702,\n",
    "    'f': 2.228, 'g': 2.015, 'h': 6.094, 'i': 6.966, 'j': 0.153,\n",
    "    'k': 0.772, 'l': 4.025, 'm': 2.406, 'n': 6.749, 'o': 7.507,\n",
    "    'p': 1.929, 'q': 0.095, 'r': 5.987, 's': 6.327, 't': 9.056,\n",
    "    'u': 2.758, 'v': 0.978, 'w': 2.360, 'x': 0.150, 'y': 1.974, 'z': 0.074\n",
    "}\n",
    "\n",
    "# Create a DataFrame from the dictionary\n",
    "df_english = pd.DataFrame(list(letter_frequencies.items()), columns=['letter-english', 'frequency-english'])\n",
    "\n",
    "# Sort the DataFrame by letter\n",
    "df_english = df_english.sort_values('frequency-english', ascending=False)\n",
    "\n",
    "# Reset the index\n",
    "df_english = df_english.reset_index(drop=True)\n",
    "\n",
    "# Print the DataFrame\n",
    "df_english[\"frequency-english\"]=df_english[\"frequency-english\"]*0.01"
   ]
  },
  {
   "cell_type": "code",
   "execution_count": 136,
   "id": "ab0091df",
   "metadata": {},
   "outputs": [],
   "source": [
    "df_english = df_english.reset_index(drop=True)"
   ]
  },
  {
   "cell_type": "code",
   "execution_count": 137,
   "id": "a847ba44",
   "metadata": {},
   "outputs": [],
   "source": [
    "merged_series = pd.concat([df_todecipher[\"index\"], df_english[\"letter-english\"]], ignore_index=True)"
   ]
  },
  {
   "cell_type": "code",
   "execution_count": 143,
   "id": "0c65d8f3",
   "metadata": {},
   "outputs": [],
   "source": [
    "df_todecipher[\"letter_english\"]=df_english[\"letter-english\"]"
   ]
  },
  {
   "cell_type": "code",
   "execution_count": null,
   "id": "3bd8afd4",
   "metadata": {},
   "outputs": [],
   "source": []
  }
 ],
 "metadata": {
  "kernelspec": {
   "display_name": "Python 3 (ipykernel)",
   "language": "python",
   "name": "python3"
  },
  "language_info": {
   "codemirror_mode": {
    "name": "ipython",
    "version": 3
   },
   "file_extension": ".py",
   "mimetype": "text/x-python",
   "name": "python",
   "nbconvert_exporter": "python",
   "pygments_lexer": "ipython3",
   "version": "3.11.4"
  }
 },
 "nbformat": 4,
 "nbformat_minor": 5
}
